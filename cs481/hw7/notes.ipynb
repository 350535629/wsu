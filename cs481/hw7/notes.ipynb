{
 "cells": [
  {
   "cell_type": "markdown",
   "metadata": {},
   "source": [
    "# Homework 7: Spreadsheet"
   ]
  },
  {
   "cell_type": "markdown",
   "metadata": {},
   "source": [
    "Due: 11/29"
   ]
  },
  {
   "cell_type": "markdown",
   "metadata": {},
   "source": [
    "In a module `spreadsheet.py` create a new `tkinter`-based class called `Spreadsheet` that is a `Frame` that contains a labelled array of cells that looks something like this (including a focus `Label` and a focus `Entry` -- see below):"
   ]
  },
  {
   "cell_type": "markdown",
   "metadata": {},
   "source": [
    "<img src=\"spreadsheet.png\" alt=\"Spreadsheet illustration\">"
   ]
  },
  {
   "cell_type": "markdown",
   "metadata": {},
   "source": [
    "In this figure, the focus `Label` is on the left of the bottom row (containing \"`a0:`\") and the focus `Entry` (empty in this case) is to its right."
   ]
  },
  {
   "cell_type": "markdown",
   "metadata": {},
   "source": [
    "The prototype for a `Spreadsheet` instantiation is:\n",
    "``\n",
    "Spreadsheet(parent, nr=4, nc=4)\n",
    "``\n",
    "where `nr` is the number of rows and `nc` is the number of columns.\n",
    "The columns are numbered left to right from `0` to `nc-1`.\n",
    "The `nr` rows are lettered in lower case starting with `a` in\n",
    "on the top.\n",
    "(Don't worry about having more than 26 rows for now!)"
   ]
  },
  {
   "cell_type": "markdown",
   "metadata": {},
   "source": [
    "Let's demonstrate this. The solution module contains a self-test that creates a 4x4 spreadsheet:"
   ]
  },
  {
   "cell_type": "code",
   "execution_count": 8,
   "metadata": {},
   "outputs": [],
   "source": [
    "!python3 spreadsheet.py"
   ]
  },
  {
   "cell_type": "markdown",
   "metadata": {},
   "source": [
    "The interaction model for this spreadsheet differs from that of normal Excel$^{TM}$-like (actually, VisiCalc$^{TM}$-like) spreadsheets, and may actually be easier for a programmer (especially a Python\n",
    "programmer) to understand.  In \"normal\" spreadsheets, cells have text values or numeric values.  In this case, all cells contain strings which can be evaluated like any Python expression. Strings evaluate to themselves and can therefore be used as both data and labels."
   ]
  },
  {
   "cell_type": "markdown",
   "metadata": {},
   "source": [
    "Cell expressions can use the names of other cells, with the exception that a cell cannot refer to itself either directly or indirectly. We'll demonstrate this."
   ]
  },
  {
   "cell_type": "markdown",
   "metadata": {},
   "source": [
    "The suggested implementation is to give each cell three attributes:\n",
    "\n",
    "- an `expression`: a string the user types into the focus `Entry` (below)\n",
    "\n",
    "- a `code`: a code (that's a class) object created by the `compile()` builtin), and\n",
    "\n",
    "- a `value`: the result of evaluating the `code` (using `eval()` and, converted to a string (using `str()`), is what the users see when they look at a cell.\n",
    "\n",
    "At any given time, one cell is the \"focus\". It appears with a yellow background. Associated with the focus are two additional widgets: the \"focus `Label`\" and the \"focus `Entry`\". The focus `Entry` is where the user edits the expression string for the focus and the focus Label is the name (`\"a0\"`, `\"c3\"`, etc.) of the focus cell. They are attributes (`focusLabel` and `focusEntry`) of the `Spreadsheet` and must be placed (e.g. via `grid()`) separately from the `Spreadsheet` widget itself.\n",
    "\n",
    "It is strongly recommended that the cells be placed within the `Spreadsheet` using the `grid` geometry manager."
   ]
  },
  {
   "cell_type": "markdown",
   "metadata": {},
   "source": [
    "The user can click on any cell in the cell array to make it the focus. The focus Entry shows that cell's expression string and the focus `Label` shows its label. Pressing the `Enter` or `Tab` keys causes the focus `Entry` to become the cell's expression string, which is then compiled to a new code. After that, the cell and all cells related to it are updated to reflect the new value.\n",
    "\n",
    "As states above, the cell array (i.e., the `Spreadsheet`), the focus `Label`, and the focus `Entry` all need to be placed with a geometry manager. Here is a test program (which is also the `spreadsheet` module's self-test) that your implementation should support:"
   ]
  },
  {
   "cell_type": "code",
   "execution_count": 29,
   "metadata": {},
   "outputs": [],
   "source": [
    "# %load spreadsheet_t.py\n",
    "from tkinter import Tk\n",
    "from spreadsheet import Spreadsheet\n",
    "\n",
    "root = Tk()\n",
    "root.title(\"Spreadsheet Self-Test\")\n",
    "nRows = 4\n",
    "nCols = 4\n",
    "spreadsheet = Spreadsheet(root, nRows, nCols)\n",
    "spreadsheet.grid(row=0, column=0, columnspan=nCols)\n",
    "spreadsheet.focusLabel.grid(row=1, column=0)\n",
    "spreadsheet.focusEntry.grid(row=1, column=1)\n",
    "root.mainloop()\n"
   ]
  },
  {
   "cell_type": "markdown",
   "metadata": {},
   "source": [
    "This is downloadable from the web page, along with a working `spreadsheet.cpython-36.pyc` to compare against your work. The grader may have one or more tests that differ from this, but your code should at least work with this.\n",
    "\n",
    "Note that `spreadsheet.cpython-36.pyc` is a bytecode-compiled version of the instructor's solution that can be imported via \"`import spreadsheet`\" or invoked from the command line like any other Python module:\n",
    "\n",
    "~~~~\n",
    "$ python3 spreadsheet.cpython-36.pyc\n",
    "~~~~\n",
    "\n",
    "but, as the name suggests, it only works for Python 3.6 (the official version of this class). On the other hand it should work on any platform running Python 3.6, since Python bytecodes are platform-independent."
   ]
  },
  {
   "cell_type": "markdown",
   "metadata": {},
   "source": [
    "## Compiling and Evaluating Cells"
   ]
  },
  {
   "cell_type": "markdown",
   "metadata": {},
   "source": [
    "Initially, all cells start with a expression `\"\"` (an empty string) and a code of `None`, so all cells initially appear blank."
   ]
  },
  {
   "cell_type": "markdown",
   "metadata": {},
   "source": [
    "To show how evaluation works, let's take an example. Let's suppose we want to have an expression in cell `a2` that adds the contents of cells `a0` and `a1`, which we set to 1 and 2, respectively. We would enter this expression in `a2`:"
   ]
  },
  {
   "cell_type": "code",
   "execution_count": 10,
   "metadata": {},
   "outputs": [],
   "source": [
    "expr = \"a0 + a1\""
   ]
  },
  {
   "cell_type": "markdown",
   "metadata": {},
   "source": [
    "When this expression is entered, we use `compile()` to create a `code` class object that represents it:"
   ]
  },
  {
   "cell_type": "code",
   "execution_count": 11,
   "metadata": {},
   "outputs": [],
   "source": [
    "code = compile(expr, \"a2\", 'eval')"
   ]
  },
  {
   "cell_type": "markdown",
   "metadata": {},
   "source": [
    "In order to evaluate `code`, we must provide a dictionary that maps the symbols `expr` uses to values. We call this a \"symbol table\":"
   ]
  },
  {
   "cell_type": "code",
   "execution_count": 12,
   "metadata": {},
   "outputs": [],
   "source": [
    "symtab = { 'a0': 1, \"a1\": 2 }"
   ]
  },
  {
   "cell_type": "markdown",
   "metadata": {},
   "source": [
    "and then pass this to `eval()` to get a value:"
   ]
  },
  {
   "cell_type": "code",
   "execution_count": 13,
   "metadata": {},
   "outputs": [
    {
     "data": {
      "text/plain": [
       "3"
      ]
     },
     "execution_count": 13,
     "metadata": {},
     "output_type": "execute_result"
    }
   ],
   "source": [
    "value = eval(code, {}, symtab)\n",
    "value"
   ]
  },
  {
   "cell_type": "markdown",
   "metadata": {},
   "source": [
    "Passing `symtab` as the third argument to `eval()` makes it refer to its symbols as global, rather than local. This is what we want. (Local would make sense if we were inside a function or method, which we are not.)\n",
    "\n",
    "When we display this in a `Cell` (which is a `Label`) we would use `str()` to convert it to a string (if necessary):"
   ]
  },
  {
   "cell_type": "code",
   "execution_count": 14,
   "metadata": {},
   "outputs": [
    {
     "data": {
      "text/plain": [
       "'3'"
      ]
     },
     "execution_count": 14,
     "metadata": {},
     "output_type": "execute_result"
    }
   ],
   "source": [
    "str(value)"
   ]
  },
  {
   "cell_type": "markdown",
   "metadata": {},
   "source": [
    "## Adding More Symbols to the Symbol Table\n",
    "\n",
    "We can add other symbols to symtab and they can map to objects such as functions and constants:"
   ]
  },
  {
   "cell_type": "code",
   "execution_count": 15,
   "metadata": {},
   "outputs": [
    {
     "data": {
      "text/plain": [
       "4.707106781186548"
      ]
     },
     "execution_count": 15,
     "metadata": {},
     "output_type": "execute_result"
    }
   ],
   "source": [
    "def f(x):\n",
    "    return x**2 + 3\n",
    "symtab['f'] = f\n",
    "from math import sin, pi\n",
    "symtab['sin'] = sin\n",
    "symtab['pi'] = pi\n",
    "expr = 'f(a0) + sin(pi/4)'\n",
    "code = compile(expr, 'a3', 'eval')\n",
    "eval(code, {}, symtab)"
   ]
  },
  {
   "cell_type": "markdown",
   "metadata": {},
   "source": [
    "Your `Spreadsheet` should allow users to use all of the functions and constants (e.g.`pi`) in the `math` module. You can find them in the `module.__dict__` dictionary, but ignore those symbols that begin with `'_'`."
   ]
  },
  {
   "cell_type": "markdown",
   "metadata": {},
   "source": [
    "## Dealing With Dependencies\n",
    "\n",
    "When the user changes a cell's expression, it's not enough to update the cell itself. We also need to update all cells that depend on that cell. This is a problem in graph theory. Solving it is beyond the range of this course, so I've provided a `dependencies` module to do that for you. (You're free to write your own, of course!)\n",
    "\n",
    "Here's how it works:\n",
    "\n",
    "Set up a dictionary (*not* the symbol table) that contains the dependencies of each cell by name. If cell `a2` is has the expression \"`a0 + a1`\" and cell `a3` has the expression \"`f(a0) + sin(pi/4)`\", the dependencies would be:"
   ]
  },
  {
   "cell_type": "code",
   "execution_count": 19,
   "metadata": {},
   "outputs": [],
   "source": [
    "deps = { 'a2': ('a0', 'a1'), 'a3': ('a0',)}"
   ]
  },
  {
   "cell_type": "markdown",
   "metadata": {},
   "source": [
    "There's only one function in `dependencies` you should need: `dependersOn()`:"
   ]
  },
  {
   "cell_type": "code",
   "execution_count": 20,
   "metadata": {},
   "outputs": [],
   "source": [
    "from dependencies import dependersOn"
   ]
  },
  {
   "cell_type": "code",
   "execution_count": 18,
   "metadata": {},
   "outputs": [],
   "source": [
    "?dependersOn"
   ]
  },
  {
   "cell_type": "markdown",
   "metadata": {},
   "source": [
    "Pass it any cell's name and it will return a list of names of those cells that depend on it and therefore need to be updated:"
   ]
  },
  {
   "cell_type": "code",
   "execution_count": 21,
   "metadata": {},
   "outputs": [
    {
     "data": {
      "text/plain": [
       "['a2', 'a3']"
      ]
     },
     "execution_count": 21,
     "metadata": {},
     "output_type": "execute_result"
    }
   ],
   "source": [
    "dependersOn('a0', deps)"
   ]
  },
  {
   "cell_type": "code",
   "execution_count": 22,
   "metadata": {},
   "outputs": [
    {
     "data": {
      "text/plain": [
       "['a2']"
      ]
     },
     "execution_count": 22,
     "metadata": {},
     "output_type": "execute_result"
    }
   ],
   "source": [
    "dependersOn('a1', deps)"
   ]
  },
  {
   "cell_type": "code",
   "execution_count": 23,
   "metadata": {},
   "outputs": [
    {
     "data": {
      "text/plain": [
       "[]"
      ]
     },
     "execution_count": 23,
     "metadata": {},
     "output_type": "execute_result"
    }
   ],
   "source": [
    "dependersOn('a2', deps)"
   ]
  },
  {
   "cell_type": "markdown",
   "metadata": {},
   "source": [
    "So all you need is to traverse the list (in order) and update the cells' values in both the symbol table and on the screens."
   ]
  },
  {
   "cell_type": "markdown",
   "metadata": {},
   "source": [
    "### Finding Dependencies\n",
    "\n",
    "It will be up to you to build the dependencies dictionary (`deps` in the above examples). You *could* parse the expression yourself, but there's a much easier way to do this. When you compile a code object (with `compile()`, of course), it has a number of attributes:"
   ]
  },
  {
   "cell_type": "code",
   "execution_count": 24,
   "metadata": {},
   "outputs": [
    {
     "data": {
      "text/plain": [
       "['__class__',\n",
       " '__delattr__',\n",
       " '__dir__',\n",
       " '__doc__',\n",
       " '__eq__',\n",
       " '__format__',\n",
       " '__ge__',\n",
       " '__getattribute__',\n",
       " '__gt__',\n",
       " '__hash__',\n",
       " '__init__',\n",
       " '__init_subclass__',\n",
       " '__le__',\n",
       " '__lt__',\n",
       " '__ne__',\n",
       " '__new__',\n",
       " '__reduce__',\n",
       " '__reduce_ex__',\n",
       " '__repr__',\n",
       " '__setattr__',\n",
       " '__sizeof__',\n",
       " '__str__',\n",
       " '__subclasshook__',\n",
       " 'co_argcount',\n",
       " 'co_cellvars',\n",
       " 'co_code',\n",
       " 'co_consts',\n",
       " 'co_filename',\n",
       " 'co_firstlineno',\n",
       " 'co_flags',\n",
       " 'co_freevars',\n",
       " 'co_kwonlyargcount',\n",
       " 'co_lnotab',\n",
       " 'co_name',\n",
       " 'co_names',\n",
       " 'co_nlocals',\n",
       " 'co_stacksize',\n",
       " 'co_varnames']"
      ]
     },
     "execution_count": 24,
     "metadata": {},
     "output_type": "execute_result"
    }
   ],
   "source": [
    "dir(code)"
   ]
  },
  {
   "cell_type": "markdown",
   "metadata": {},
   "source": [
    "The one we want is `co_names`:"
   ]
  },
  {
   "cell_type": "code",
   "execution_count": 25,
   "metadata": {},
   "outputs": [
    {
     "data": {
      "text/plain": [
       "('f', 'a0', 'sin', 'pi')"
      ]
     },
     "execution_count": 25,
     "metadata": {},
     "output_type": "execute_result"
    }
   ],
   "source": [
    "code.co_names"
   ]
  },
  {
   "cell_type": "markdown",
   "metadata": {},
   "source": [
    "This `code` was produced for `a3` (see above) and dependencies only need the names of cells, not the other stuff we put in the symbol table, so we remove everything that isn't a cell name, the appropriate dependency for `a3` would be `(a0,)`."
   ]
  },
  {
   "cell_type": "code",
   "execution_count": 26,
   "metadata": {},
   "outputs": [
    {
     "data": {
      "text/plain": [
       "{'a2': ('a0', 'a1'), 'a3': ('a0',)}"
      ]
     },
     "execution_count": 26,
     "metadata": {},
     "output_type": "execute_result"
    }
   ],
   "source": [
    "deps['a3'] = ('a0', )\n",
    "deps"
   ]
  },
  {
   "cell_type": "markdown",
   "metadata": {},
   "source": [
    "### Cyclic Dependencies\n",
    "\n",
    "There's one caveat. If you pass a dependency dictionary that includes a cycle, it will raise a `CyclicDependency` exception:"
   ]
  },
  {
   "cell_type": "code",
   "execution_count": 28,
   "metadata": {},
   "outputs": [
    {
     "ename": "CyclicDependency",
     "evalue": "dependency cycle detected",
     "output_type": "error",
     "traceback": [
      "\u001b[0;31m---------------------------------------------------------------------------\u001b[0m",
      "\u001b[0;31mCyclicDependency\u001b[0m                          Traceback (most recent call last)",
      "\u001b[0;32m<ipython-input-28-f14c6b128938>\u001b[0m in \u001b[0;36m<module>\u001b[0;34m()\u001b[0m\n\u001b[1;32m      1\u001b[0m \u001b[0mcyclicDeps\u001b[0m \u001b[0;34m=\u001b[0m \u001b[0;34m{\u001b[0m \u001b[0;34m'a'\u001b[0m\u001b[0;34m:\u001b[0m \u001b[0;34m(\u001b[0m\u001b[0;34m'b'\u001b[0m\u001b[0;34m,\u001b[0m\u001b[0;34m)\u001b[0m\u001b[0;34m,\u001b[0m \u001b[0;34m'b'\u001b[0m\u001b[0;34m:\u001b[0m \u001b[0;34m(\u001b[0m\u001b[0;34m'a'\u001b[0m\u001b[0;34m,\u001b[0m\u001b[0;34m)\u001b[0m \u001b[0;34m}\u001b[0m\u001b[0;34m\u001b[0m\u001b[0m\n\u001b[0;32m----> 2\u001b[0;31m \u001b[0mdependersOn\u001b[0m\u001b[0;34m(\u001b[0m\u001b[0;34m'a'\u001b[0m\u001b[0;34m,\u001b[0m \u001b[0mcyclicDeps\u001b[0m\u001b[0;34m)\u001b[0m\u001b[0;34m\u001b[0m\u001b[0m\n\u001b[0m",
      "\u001b[0;32m/home/bobl/Dropbox/cpts481/hw07_spreadsheet/src/dependencies.py\u001b[0m in \u001b[0;36mdependersOn\u001b[0;34m(node, deps)\u001b[0m\n\u001b[1;32m     53\u001b[0m                 \u001b[0;32melse\u001b[0m\u001b[0;34m:\u001b[0m\u001b[0;34m\u001b[0m\u001b[0m\n\u001b[1;32m     54\u001b[0m                     raise CyclicDependency(\n\u001b[0;32m---> 55\u001b[0;31m                         \"dependency cycle detected\")\n\u001b[0m\u001b[1;32m     56\u001b[0m             \u001b[0mresult\u001b[0m\u001b[0;34m.\u001b[0m\u001b[0mappend\u001b[0m\u001b[0;34m(\u001b[0m\u001b[0msubNode\u001b[0m\u001b[0;34m)\u001b[0m\u001b[0;34m\u001b[0m\u001b[0m\n\u001b[1;32m     57\u001b[0m \u001b[0;34m\u001b[0m\u001b[0m\n",
      "\u001b[0;31mCyclicDependency\u001b[0m: dependency cycle detected"
     ]
    }
   ],
   "source": [
    "cyclicDeps = { 'a': ('b',), 'b': ('a',) }\n",
    "dependersOn('a', cyclicDeps)"
   ]
  },
  {
   "cell_type": "markdown",
   "metadata": {},
   "source": [
    "Your code can trap this (or any other exception like `DivideByZero`) when it evaluates a new cell expression and undo the update by saving the initial cell state beforehand and restoring it in the `except` suite."
   ]
  },
  {
   "cell_type": "code",
   "execution_count": null,
   "metadata": {},
   "outputs": [],
   "source": []
  }
 ],
 "metadata": {
  "kernelspec": {
   "display_name": "Python 3",
   "language": "python",
   "name": "python3"
  },
  "language_info": {
   "codemirror_mode": {
    "name": "ipython",
    "version": 3
   },
   "file_extension": ".py",
   "mimetype": "text/x-python",
   "name": "python",
   "nbconvert_exporter": "python",
   "pygments_lexer": "ipython3",
   "version": "3.6.6"
  },
  "widgets": {
   "state": {},
   "version": "1.1.2"
  }
 },
 "nbformat": 4,
 "nbformat_minor": 2
}
