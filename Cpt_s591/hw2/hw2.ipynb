{
 "cells": [
  {
   "cell_type": "code",
   "execution_count": 1,
   "metadata": {},
   "outputs": [],
   "source": [
    "from igraph import *\n",
    "import networkx as nx\n",
    "import numpy as np"
   ]
  },
  {
   "cell_type": "code",
   "execution_count": 2,
   "metadata": {},
   "outputs": [],
   "source": [
    "# Power grid\n",
    "g_PW = Graph.Read_GML('data/power.gml')\n",
    "# dolphin social network\n",
    "g_DS = Graph.Read_GML('data/dolphins.gml')\n",
    "# Internet\n",
    "g_In = Graph.Read_GML('data/as-22july06.gml')\n",
    "# Les Miserables\n",
    "g_LM = Graph.Read_GML('data/lesmis.gml')"
   ]
  },
  {
   "cell_type": "code",
   "execution_count": 3,
   "metadata": {},
   "outputs": [],
   "source": [
    "g = {}\n",
    "\n",
    "g['PW']={'model': g_PW, 'Network': 'Power'}\n",
    "g['DS']={'model': g_DS, 'Network': 'Dolphin social network'}\n",
    "g['In']={'model': g_In, 'Network': 'Internet'}\n",
    "g['LM']={'model': g_LM, 'Network': 'Les Miserables'}"
   ]
  },
  {
   "cell_type": "code",
   "execution_count": 4,
   "metadata": {},
   "outputs": [],
   "source": [
    "gx = {}\n",
    "gx['PW'] = nx.read_gml('data/power.gml', label=None)\n",
    "gx['DS'] = nx.read_gml('data/dolphins.gml')\n",
    "gx['In'] = nx.read_gml('data/as-22july06.gml')\n",
    "gx['LM'] = nx.read_gml('data/lesmis.gml')\n",
    "names = ['PW', 'DS', 'In', 'LM']"
   ]
  },
  {
   "cell_type": "code",
   "execution_count": 5,
   "metadata": {},
   "outputs": [],
   "source": [
    "# Q1. I choose the network from the database given by professor.\n",
    "# 1. Power Grid.\n",
    "# 2. Dolphin Social Network\n",
    "# 3. Internet\n",
    "# 4. Les Miserables"
   ]
  },
  {
   "cell_type": "code",
   "execution_count": null,
   "metadata": {},
   "outputs": [],
   "source": [
    "for i in names:\n",
    "    g[i]['Degree'] = g[i]['model'].maxdegree()\n",
    "    g[i]['Eccentricity'] = max(g[i]['model'].eccentricity())\n",
    "    g[i]['Closeness'] = max(g[i]['model'].closeness())\n",
    "    g[i]['Betweeness'] = max(g[i]['model'].betweenness())\n",
    "    if i != 'In':\n",
    "        gxn = nx.katz_centrality(gx[i])\n",
    "        g[i]['Katz index'] = gxn[max(gxn)]\n",
    "    g[i]['PageRank'] = max(g[i]['model'].pagerank())\n",
    "    g[i]['Kleinbergs authority score'] = max(g[i]['model'].authority_score())\n",
    "    g[i]['Kleinbergs hub score'] = max(g[i]['model'].hub_score())\n",
    "    "
   ]
  },
  {
   "cell_type": "code",
   "execution_count": null,
   "metadata": {
    "scrolled": false
   },
   "outputs": [],
   "source": [
    "# Problem 2.\n",
    "\n",
    "g2 = {}\n",
    "g2['ER20'] = {'model':Graph.Erdos_Renyi(20, m=100), 'Graph':'Erdos-Renyi-20',\n",
    "             'n':20, 'm':100}\n",
    "g2['BA20'] = {'model':Graph.Barabasi(20, m=100), 'Graph':'Barabasi-Albert-20',\n",
    "             'n':20, 'm':100}\n",
    "g2['ER40'] = {'model':Graph.Erdos_Renyi(40, m=400), 'Graph':'Erdos-Renyi-40',\n",
    "             'n':40, 'm':400}\n",
    "g2['BA40'] = {'model':Graph.Barabasi(40, m=400), 'Graph':'Barabasi-Albert-40',\n",
    "             'n':40, 'm':400}\n",
    "names = ['ER20', 'BA20', 'ER40', 'BA40']"
   ]
  },
  {
   "cell_type": "code",
   "execution_count": null,
   "metadata": {},
   "outputs": [],
   "source": [
    "# Problem 2. q1&q2.\n",
    "for name in names:\n",
    "    g2[name]['d_min'] = min(g2[name]['model'].degree())\n",
    "    g2[name]['d_max'] = max(g2[name]['model'].degree())\n",
    "    g2[name]['l'] = g2[name]['model'].average_path_length()\n",
    "    g2[name]['D'] = g2[name]['model'].diameter()\n",
    "    g2[name]['ccg'] = g2[name]['model'].transitivity_undirected()\n",
    "    lap = g2[name]['model'].laplacian()\n",
    "    g2[name]['eig'] = np.linalg.eig(lap)\n",
    "    t = g2[name]['eig'][0].tolist()\n",
    "    g2[name]['lambda2'] = min(t.remove(g2[name]['eig'][0].min()))\n",
    "    g2[name]['lambdan'] = g2[name]['eig'][0].max()"
   ]
  },
  {
   "cell_type": "code",
   "execution_count": null,
   "metadata": {},
   "outputs": [],
   "source": []
  },
  {
   "cell_type": "code",
   "execution_count": null,
   "metadata": {},
   "outputs": [],
   "source": [
    "# Problem 2. q3.\n",
    "import matplotlib.pyplot as plt\n"
   ]
  }
 ],
 "metadata": {
  "celltoolbar": "Tags",
  "kernelspec": {
   "display_name": "Python 3",
   "language": "python",
   "name": "python3"
  },
  "language_info": {
   "codemirror_mode": {
    "name": "ipython",
    "version": 3
   },
   "file_extension": ".py",
   "mimetype": "text/x-python",
   "name": "python",
   "nbconvert_exporter": "python",
   "pygments_lexer": "ipython3",
   "version": "3.6.8"
  }
 },
 "nbformat": 4,
 "nbformat_minor": 2
}
