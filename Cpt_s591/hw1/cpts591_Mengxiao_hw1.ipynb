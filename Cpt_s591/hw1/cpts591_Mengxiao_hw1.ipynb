{
 "cells": [
  {
   "cell_type": "code",
   "execution_count": 1,
   "metadata": {},
   "outputs": [],
   "source": [
    "from igraph import *"
   ]
  },
  {
   "cell_type": "code",
   "execution_count": 2,
   "metadata": {},
   "outputs": [],
   "source": [
    "# At first, we need to read the three networks and generate three Erdos-Renyi random networks."
   ]
  },
  {
   "cell_type": "code",
   "execution_count": 3,
   "metadata": {},
   "outputs": [],
   "source": [
    "# Political blogs\n",
    "g_PB = Graph.Read_GML('polblogs.gml')\n",
    "# Neural network\n",
    "g_NN = Graph.Read_GML('celegansneural.gml')\n",
    "# Internet\n",
    "g_In = Graph.Read_GML('as-22july06.gml')\n",
    "# With n = 2000, p = 0.01\n",
    "g_01 = Graph.GRG(2000, 0.01)\n",
    "# With n = 2000, p = 0.005\n",
    "g_005 = Graph.GRG(2000, 0.005)\n",
    "# With n = 2000, p = 0.0025\n",
    "g_0025 = Graph.GRG(2000, 0.0025)"
   ]
  },
  {
   "cell_type": "code",
   "execution_count": 4,
   "metadata": {},
   "outputs": [],
   "source": [
    "# Q1. calculate the information for each of the six networks."
   ]
  },
  {
   "cell_type": "code",
   "execution_count": 5,
   "metadata": {},
   "outputs": [],
   "source": [
    "g = {}\n",
    "g['PB']={'model': g_PB, 'Network': 'Political blogs'}\n",
    "g['NN']={'model': g_NN, 'Network': 'Neural network'}\n",
    "g['In']={'model': g_In, 'Network': 'Internet'}\n",
    "g['01']={'model': g_01, 'Network': 'G(2000,0.01)'}\n",
    "g['005']={'model': g_005, 'Network': 'G(2000,0.005)'}\n",
    "g['0025']={'model': g_0025, 'Network': 'G(2000, 0.0025)'}\n",
    "names = ['PB', 'NN', 'In', '01', '005', '0025']"
   ]
  },
  {
   "cell_type": "code",
   "execution_count": 6,
   "metadata": {},
   "outputs": [],
   "source": [
    "for i in names:\n",
    "    g[i]['Type'] = g[i]['model'].is_directed()\n",
    "    g[i]['n'] = g[i]['model'].vcount()\n",
    "    g[i]['m'] = g[i]['model'].ecount()\n",
    "    if g[i]['Type']:\n",
    "        g[i]['c-strong'] = g[i]['model'].components().summary()\n",
    "        g[i]['c-weak'] = g[i]['model'].components(WEAK).summary()\n",
    "    else:\n",
    "        g[i]['c'] = g[i]['model'].components().summary()\n",
    "    g[i]['d'] = g[i]['model'].maxdegree()\n",
    "    g[i]['l'] = g[i]['model'].average_path_length()\n",
    "    g[i]['L'] = g[i]['model'].diameter()\n",
    "    g[i]['ccl'] = g[i]['model'].transitivity_avglocal_undirected()\n",
    "    g[i]['ccg'] = g[i]['model'].transitivity_undirected()"
   ]
  },
  {
   "cell_type": "code",
   "execution_count": 7,
   "metadata": {
    "scrolled": false
   },
   "outputs": [
    {
     "data": {
      "text/plain": [
       "{'PB': {'model': <igraph.Graph at 0x7f35cc03ee58>,\n",
       "  'Network': 'Political blogs',\n",
       "  'Type': True,\n",
       "  'n': 1490,\n",
       "  'm': 19090,\n",
       "  'c-strong': 'Clustering with 1490 elements and 688 clusters',\n",
       "  'c-weak': 'Clustering with 1490 elements and 268 clusters',\n",
       "  'd': 468,\n",
       "  'l': 3.3901837252152363,\n",
       "  'L': 9,\n",
       "  'ccl': 0.3600286522101186,\n",
       "  'ccg': 0.2259585173589758},\n",
       " 'NN': {'model': <igraph.Graph at 0x7f35b3fbb048>,\n",
       "  'Network': 'Neural network',\n",
       "  'Type': True,\n",
       "  'n': 297,\n",
       "  'm': 2359,\n",
       "  'c-strong': 'Clustering with 297 elements and 57 clusters',\n",
       "  'c-weak': 'Clustering with 297 elements and 1 clusters',\n",
       "  'd': 139,\n",
       "  'l': 3.9918839808408726,\n",
       "  'L': 14,\n",
       "  'ccl': 0.30791453707858335,\n",
       "  'ccg': 0.18071147126607687},\n",
       " 'In': {'model': <igraph.Graph at 0x7f359a088408>,\n",
       "  'Network': 'Internet',\n",
       "  'Type': False,\n",
       "  'n': 22963,\n",
       "  'm': 48436,\n",
       "  'c': 'Clustering with 22963 elements and 1 clusters',\n",
       "  'd': 2390,\n",
       "  'l': 3.842426273858345,\n",
       "  'L': 11,\n",
       "  'ccl': 0.3499153584893828,\n",
       "  'ccg': 0.011146383847822162},\n",
       " '01': {'model': <igraph.Graph at 0x7f359a0884f8>,\n",
       "  'Network': 'G(2000,0.01)',\n",
       "  'Type': False,\n",
       "  'n': 2000,\n",
       "  'm': 633,\n",
       "  'c': 'Clustering with 2000 elements and 1428 clusters',\n",
       "  'd': 6,\n",
       "  'l': 1.4457274826789839,\n",
       "  'L': 6,\n",
       "  'ccl': 0.5620967741935483,\n",
       "  'ccg': 0.5431034482758621},\n",
       " '005': {'model': <igraph.Graph at 0x7f359a0885e8>,\n",
       "  'Network': 'G(2000,0.005)',\n",
       "  'Type': False,\n",
       "  'n': 2000,\n",
       "  'm': 153,\n",
       "  'c': 'Clustering with 2000 elements and 1850 clusters',\n",
       "  'd': 2,\n",
       "  'l': 1.0254777070063694,\n",
       "  'L': 2,\n",
       "  'ccl': 0.6923076923076923,\n",
       "  'ccg': 0.6923076923076923},\n",
       " '0025': {'model': <igraph.Graph at 0x7f359a0886d8>,\n",
       "  'Network': 'G(2000, 0.0025)',\n",
       "  'Type': False,\n",
       "  'n': 2000,\n",
       "  'm': 34,\n",
       "  'c': 'Clustering with 2000 elements and 1966 clusters',\n",
       "  'd': 2,\n",
       "  'l': 1.0285714285714285,\n",
       "  'L': 2,\n",
       "  'ccl': 0.0,\n",
       "  'ccg': 0.0}}"
      ]
     },
     "execution_count": 7,
     "metadata": {},
     "output_type": "execute_result"
    }
   ],
   "source": [
    "g"
   ]
  },
  {
   "cell_type": "code",
   "execution_count": 8,
   "metadata": {},
   "outputs": [],
   "source": [
    "# Q2. Plot the degree distribution of each network.\n",
    "import cairocffi\n",
    "from igraph import plot"
   ]
  },
  {
   "cell_type": "code",
   "execution_count": 9,
   "metadata": {},
   "outputs": [],
   "source": [
    "for i in names:\n",
    "    plot(g[i]['model'].degree_distribution(),\n",
    "         g[i]['Network']+\"_degree_distribution.png\",\n",
    "         bbox=(300, 300), margin=20)"
   ]
  },
  {
   "cell_type": "code",
   "execution_count": 31,
   "metadata": {},
   "outputs": [],
   "source": [
    "# A2. According to the graph, I find that the degree distribution graph of\n",
    "# the Neural network and Internet is obviously fit the Poisson distribution,\n",
    "# so that they are the E-R random graph, but the other network look\n",
    "# like power law distribution, but according to the theory, what our\n",
    "# build is an E-R random graph, so their degree distribution graph may\n",
    "# be still a Poisson distribution but just shifted left."
   ]
  },
  {
   "cell_type": "code",
   "execution_count": 10,
   "metadata": {},
   "outputs": [],
   "source": [
    "# Q3. Plot the pathlength distribution of each network."
   ]
  },
  {
   "cell_type": "code",
   "execution_count": 11,
   "metadata": {},
   "outputs": [
    {
     "name": "stdout",
     "output_type": "stream",
     "text": [
      "********************Political blogs********************\n",
      "N = 981248, mean +- sd: 3.3902 +- 1.1302\n",
      "Each * represents 5901 items\n",
      "[ 1,  2): *** (19022)\n",
      "[ 2,  3): ******************************** (193830)\n",
      "[ 3,  4): *********************************************************** (348198)\n",
      "[ 4,  5): ********************************************** (275702)\n",
      "[ 5,  6): ****************** (107394)\n",
      "[ 6,  7): **** (25602)\n",
      "[ 7,  8): * (10092)\n",
      "[ 8,  9):  (1371)\n",
      "[ 9, 10):  (37)\n",
      "********************Neural network********************\n",
      "N = 67644, mean +- sd: 3.9919 +- 2.0243\n",
      "Each * represents 339 items\n",
      "[ 1,  2): ****** (2345)\n",
      "[ 2,  3): ********************************** (11767)\n",
      "[ 3,  4): ************************************************************ (20346)\n",
      "[ 4,  5): ***************************************** (14133)\n",
      "[ 5,  6): ****************** (6421)\n",
      "[ 6,  7): ************ (4323)\n",
      "[ 7,  8): ********* (3318)\n",
      "[ 8,  9): ***** (1984)\n",
      "[ 9, 10): **** (1442)\n",
      "[10, 11): ** (946)\n",
      "[11, 12): * (454)\n",
      "[12, 13):  (142)\n",
      "[13, 14):  (21)\n",
      "[14, 15):  (2)\n",
      "********************Internet********************\n",
      "N = 263638203, mean +- sd: 3.8424 +- 0.8957\n",
      "Each * represents 2024692 items\n",
      "[ 1,  2):  (48436)\n",
      "[ 2,  3): ***** (11063714)\n",
      "[ 3,  4): ***************************************** (84546313)\n",
      "[ 4,  5): ******************************************************** (113382789)\n",
      "[ 5,  6): ********************** (44950231)\n",
      "[ 6,  7): **** (8674704)\n",
      "[ 7,  8):  (913431)\n",
      "[ 8,  9):  (56317)\n",
      "[ 9, 10):  (2214)\n",
      "[10, 11):  (53)\n",
      "[11, 12):  (1)\n",
      "********************G(2000,0.01)********************\n",
      "N = 866, mean +- sd: 1.4457 +- 0.9085\n",
      "Each * represents 9 items\n",
      "[1, 2): ********************************************************************** (633)\n",
      "[2, 3): **************** (147)\n",
      "[3, 4): **** (44)\n",
      "[4, 5): ** (22)\n",
      "[5, 6): * (15)\n",
      "[6, 7):  (5)\n",
      "********************G(2000,0.005)********************\n",
      "N = 157, mean +- sd: 1.0255 +- 0.1581\n",
      "Each * represents 2 items\n",
      "[1, 2): **************************************************************************** (153)\n",
      "[2, 3): ** (4)\n",
      "********************G(2000, 0.0025)********************\n",
      "N = 35, mean +- sd: 1.0286 +- 0.1690\n",
      "[1, 2): ********************************** (34)\n",
      "[2, 3): * (1)\n"
     ]
    }
   ],
   "source": [
    "for i in names:\n",
    "    plot(g[i]['model'].path_length_hist(),\n",
    "         g[i]['Network']+\"_path_length_hist.png\",\n",
    "         bbox=(300, 300), margin=20)\n",
    "    print(\"-\"*20+g[i]['Network']+\"-\"*20)\n",
    "    print(g[i]['model'].path_length_hist())"
   ]
  },
  {
   "cell_type": "code",
   "execution_count": 32,
   "metadata": {},
   "outputs": [],
   "source": [
    "# A3. From the graph I can find that all of three real-world network given\n",
    "# by professor are Poisson distribution and most of the path length are\n",
    "# 3 to 5. But all of the three E-R random graph built by us still like\n",
    "# power law distribution and their path length are most 1."
   ]
  },
  {
   "cell_type": "code",
   "execution_count": 39,
   "metadata": {},
   "outputs": [
    {
     "name": "stdout",
     "output_type": "stream",
     "text": [
      "{'model': <igraph.Graph object at 0x7f359a0888b8>, 'Network': 'Les Miserables', 'Type': False, 'n': 77, 'm': 254, 'c': 'Clustering with 77 elements and 1 clusters', 'd': 36, 'l': 2.6411483253588517, 'L': 5, 'ccl': 0.735525495746084, 'ccg': 0.49893162393162394}\n",
      "********************Les Miserables********************\n",
      "degree distribution: \n",
      "N = 77, mean +- sd: 6.5974 +- 6.0399\n",
      "[ 1,  2): ***************** (17)\n",
      "[ 2,  3): ********** (10)\n",
      "[ 3,  4): ****** (6)\n",
      "[ 4,  5): *** (3)\n",
      "[ 5,  6):  (0)\n",
      "[ 6,  7): ***** (5)\n",
      "[ 7,  8): ********** (10)\n",
      "[ 8,  9): * (1)\n",
      "[ 9, 10): *** (3)\n",
      "[10, 11): ***** (5)\n",
      "[11, 12): ****** (6)\n",
      "[12, 13): ** (2)\n",
      "[13, 14): ** (2)\n",
      "[14, 15):  (0)\n",
      "[15, 16): ** (2)\n",
      "[16, 17): * (1)\n",
      "[17, 18): * (1)\n",
      "[18, 19):  (0)\n",
      "[19, 20): * (1)\n",
      "[20, 21):  (0)\n",
      "[21, 22):  (0)\n",
      "[22, 23): * (1)\n",
      "[23, 24):  (0)\n",
      "[24, 25):  (0)\n",
      "[25, 26):  (0)\n",
      "[26, 27):  (0)\n",
      "[27, 28):  (0)\n",
      "[28, 29):  (0)\n",
      "[29, 30):  (0)\n",
      "[30, 31):  (0)\n",
      "[31, 32):  (0)\n",
      "[32, 33):  (0)\n",
      "[33, 34):  (0)\n",
      "[34, 35):  (0)\n",
      "[35, 36):  (0)\n",
      "[36, 37): * (1)\n",
      "path length hist\n",
      "N = 2926, mean +- sd: 2.6411 +- 0.8556\n",
      "Each * represents 19 items\n",
      "[1, 2): ************* (254)\n",
      "[2, 3): **************************************************** (995)\n",
      "[3, 4): ***************************************************************** (1251)\n",
      "[4, 5): ********************* (399)\n",
      "[5, 6): * (27)\n"
     ]
    }
   ],
   "source": [
    "# Q4. Choose one real-world network and do the analysis in (1)-(3).\n",
    "# I choose the network \"Les Miserables\" on the web given by professor.\n",
    "# It contains the weighted network of coappearances of characters in \n",
    "# Victor Hugo's novel \"Les Miserables\". Nodes represent characters as \n",
    "# indicated by the labels and edges connect any pair of characters that\n",
    "# appear in the same chapter of the book.  The values on the edges are \n",
    "# the number of such coappearances.\n",
    "\n",
    "g_LM = Graph.Read_GML('lesmis.gml')\n",
    "g['LM']={'model': g_LM, 'Network': 'Les Miserables'}\n",
    "g['LM']['Type']=g_LM.is_directed()\n",
    "g['LM']['n']=g_LM.vcount()\n",
    "g['LM']['m']=g_LM.ecount()\n",
    "if g['LM']['Type']:\n",
    "    g['LM']['c-strong']=g_LM.components().summary()\n",
    "    g['LM']['c-weak']=g_LM.components(WEAK).summary()\n",
    "else:\n",
    "    g['LM']['c']=g_LM.components(WEAK).summary()\n",
    "g['LM']['d']=g_LM.maxdegree()\n",
    "g['LM']['l']=g_LM.average_path_length()\n",
    "g['LM']['L']=g_LM.diameter()\n",
    "g['LM']['ccl']=g_LM.transitivity_avglocal_undirected()\n",
    "g['LM']['ccg']=g_LM.transitivity_undirected()\n",
    "plot(g_LM.degree_distribution(), g['LM']['Network']+\"_degree_distribution.png\",\n",
    "bbox=(300, 300), margin=20)\n",
    "plot(g_LM.path_length_hist(), g['LM']['Network']+\"_path_length_hist.png\",\n",
    "bbox=(300, 300), margin=20)\n",
    "print(g['LM'])\n",
    "print('*'*20+\"Les Miserables\"+'*'*20)\n",
    "print(\"degree distribution: \")\n",
    "print(g_LM.degree_distribution())\n",
    "print(\"path length hist\")\n",
    "print(g_LM.path_length_hist())"
   ]
  },
  {
   "cell_type": "code",
   "execution_count": 34,
   "metadata": {},
   "outputs": [],
   "source": [
    "# A4. According to the graph, we can find the degree distribution of\n",
    "# the Les Miserables network is still Poisson distribution but it's\n",
    "# path length hist is clearly not Poisson distribution or power law\n",
    "# distribution. But there exist a point with 36 degree, this point may\n",
    "# be very important."
   ]
  }
 ],
 "metadata": {
  "celltoolbar": "Tags",
  "kernelspec": {
   "display_name": "Python 3",
   "language": "python",
   "name": "python3"
  },
  "language_info": {
   "codemirror_mode": {
    "name": "ipython",
    "version": 3
   },
   "file_extension": ".py",
   "mimetype": "text/x-python",
   "name": "python",
   "nbconvert_exporter": "python",
   "pygments_lexer": "ipython3",
   "version": "3.6.8"
  }
 },
 "nbformat": 4,
 "nbformat_minor": 2
}
